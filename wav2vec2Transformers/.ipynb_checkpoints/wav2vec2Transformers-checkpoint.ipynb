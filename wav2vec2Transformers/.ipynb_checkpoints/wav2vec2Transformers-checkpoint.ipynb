{
 "cells": [
  {
   "cell_type": "code",
   "execution_count": 1,
   "metadata": {},
   "outputs": [],
   "source": [
    "import  datasets\n",
    "import  transformers\n",
    "import  librosa\n",
    "import  jiwer\n",
    "\n"
   ]
  },
  {
   "cell_type": "code",
   "execution_count": 2,
   "metadata": {},
   "outputs": [
    {
     "data": {
      "application/vnd.jupyter.widget-view+json": {
       "model_id": "5aee402b9ddf4e9d96746b1eae539717",
       "version_major": 2,
       "version_minor": 0
      },
      "text/plain": [
       "VBox(children=(HTML(value='<center> <img\\nsrc=https://huggingface.co/front/assets/huggingface_logo-noborder.sv…"
      ]
     },
     "metadata": {},
     "output_type": "display_data"
    }
   ],
   "source": [
    "from huggingface_hub import notebook_login\n",
    "\n",
    "notebook_login()\n",
    "\n"
   ]
  },
  {
   "cell_type": "code",
   "execution_count": 3,
   "metadata": {},
   "outputs": [],
   "source": [
    "import sys\n",
    "List = sys.path\n"
   ]
  },
  {
   "cell_type": "code",
   "execution_count": 4,
   "metadata": {},
   "outputs": [
    {
     "name": "stderr",
     "output_type": "stream",
     "text": [
      "Reusing dataset timit_asr (/Users/mac/.cache/huggingface/datasets/timit_asr/clean/2.0.1/b11b576ddcccbcefa7c9f0c4e6c2a43756f3033adffe0fb686aa61043d0450ad)\n"
     ]
    },
    {
     "data": {
      "application/vnd.jupyter.widget-view+json": {
       "model_id": "71785c3361cb42d793c6b70166d41959",
       "version_major": 2,
       "version_minor": 0
      },
      "text/plain": [
       "  0%|          | 0/2 [00:00<?, ?it/s]"
      ]
     },
     "metadata": {},
     "output_type": "display_data"
    },
    {
     "name": "stdout",
     "output_type": "stream",
     "text": [
      "DatasetDict({\n",
      "    train: Dataset({\n",
      "        features: ['file', 'audio', 'text', 'phonetic_detail', 'word_detail', 'dialect_region', 'sentence_type', 'speaker_id', 'id'],\n",
      "        num_rows: 4620\n",
      "    })\n",
      "    test: Dataset({\n",
      "        features: ['file', 'audio', 'text', 'phonetic_detail', 'word_detail', 'dialect_region', 'sentence_type', 'speaker_id', 'id'],\n",
      "        num_rows: 1680\n",
      "    })\n",
      "})\n"
     ]
    }
   ],
   "source": [
    "import pyarrow\n",
    "from datasets import load_dataset, load_metric\n",
    "\n",
    "timit = load_dataset(\"timit_asr\")\n",
    "print(timit)\n"
   ]
  },
  {
   "cell_type": "code",
   "execution_count": 5,
   "metadata": {},
   "outputs": [],
   "source": [
    "timit = timit.remove_columns([\"phonetic_detail\", \"word_detail\", \"dialect_region\", \"id\", \"sentence_type\", \"speaker_id\"])\n"
   ]
  },
  {
   "cell_type": "code",
   "execution_count": 6,
   "metadata": {},
   "outputs": [
    {
     "data": {
      "text/html": [
       "<table border=\"1\" class=\"dataframe\">\n",
       "  <thead>\n",
       "    <tr style=\"text-align: right;\">\n",
       "      <th></th>\n",
       "      <th>text</th>\n",
       "    </tr>\n",
       "  </thead>\n",
       "  <tbody>\n",
       "    <tr>\n",
       "      <th>0</th>\n",
       "      <td>The overweight charmer could slip poison into anyone's tea.</td>\n",
       "    </tr>\n",
       "    <tr>\n",
       "      <th>1</th>\n",
       "      <td>She had your dark suit in greasy wash water all year.</td>\n",
       "    </tr>\n",
       "    <tr>\n",
       "      <th>2</th>\n",
       "      <td>Once you finish greasing your chain, be sure to wash thoroughly.</td>\n",
       "    </tr>\n",
       "    <tr>\n",
       "      <th>3</th>\n",
       "      <td>How would you evaluate this algebraic expression?</td>\n",
       "    </tr>\n",
       "    <tr>\n",
       "      <th>4</th>\n",
       "      <td>She had your dark suit in greasy wash water all year.</td>\n",
       "    </tr>\n",
       "    <tr>\n",
       "      <th>5</th>\n",
       "      <td>Don't ask me to carry an oily rag like that.</td>\n",
       "    </tr>\n",
       "    <tr>\n",
       "      <th>6</th>\n",
       "      <td>By eating yogurt, you may live longer.</td>\n",
       "    </tr>\n",
       "    <tr>\n",
       "      <th>7</th>\n",
       "      <td>Often they are able to get in only because the area is declining economically.</td>\n",
       "    </tr>\n",
       "    <tr>\n",
       "      <th>8</th>\n",
       "      <td>Don't ask me to carry an oily rag like that.</td>\n",
       "    </tr>\n",
       "    <tr>\n",
       "      <th>9</th>\n",
       "      <td>The pilots' heads looked ridiculously small.</td>\n",
       "    </tr>\n",
       "  </tbody>\n",
       "</table>"
      ],
      "text/plain": [
       "<IPython.core.display.HTML object>"
      ]
     },
     "metadata": {},
     "output_type": "display_data"
    }
   ],
   "source": [
    "from datasets import ClassLabel\n",
    "import random\n",
    "import pandas as pd\n",
    "from IPython.display import display, HTML\n",
    "\n",
    "def show_random_elements(dataset, num_examples=10):\n",
    "    assert num_examples <= len(dataset), \"Can't pick more elements than there are in the dataset.\"\n",
    "    picks = []\n",
    "    for _ in range(num_examples):\n",
    "        pick = random.randint(0, len(dataset)-1)\n",
    "        while pick in picks:\n",
    "            pick = random.randint(0, len(dataset)-1)\n",
    "        picks.append(pick)\n",
    "    \n",
    "    df = pd.DataFrame(dataset[picks])\n",
    "    display(HTML(df.to_html()))\n",
    "\n",
    "show_random_elements(timit[\"train\"].remove_columns([\"file\", \"audio\"]))"
   ]
  },
  {
   "cell_type": "code",
   "execution_count": 7,
   "metadata": {},
   "outputs": [
    {
     "name": "stderr",
     "output_type": "stream",
     "text": [
      "Parameter 'function'=<function remove_special_characters at 0x7fb710a65090> of the transform datasets.arrow_dataset.Dataset._map_single couldn't be hashed properly, a random hash was used instead. Make sure your transforms and parameters are serializable with pickle or dill for the dataset fingerprinting and caching to work. If you reuse this transform, the caching mechanism will consider it to be different from the previous calls and recompute everything. This warning is only showed once. Subsequent hashing failures won't be showed.\n"
     ]
    },
    {
     "data": {
      "application/vnd.jupyter.widget-view+json": {
       "model_id": "21d0d96f9f3744f8bf83d2813fd83930",
       "version_major": 2,
       "version_minor": 0
      },
      "text/plain": [
       "0ex [00:00, ?ex/s]"
      ]
     },
     "metadata": {},
     "output_type": "display_data"
    },
    {
     "data": {
      "application/vnd.jupyter.widget-view+json": {
       "model_id": "d867032df75b423499189eeec6e12722",
       "version_major": 2,
       "version_minor": 0
      },
      "text/plain": [
       "0ex [00:00, ?ex/s]"
      ]
     },
     "metadata": {},
     "output_type": "display_data"
    }
   ],
   "source": [
    "import re\n",
    "chars_to_ignore_regex = '[\\,\\?\\.\\!\\-\\;\\:\\\"]'\n",
    "\n",
    "def remove_special_characters(batch):\n",
    "    batch[\"text\"] = re.sub(chars_to_ignore_regex, '', batch[\"text\"]).lower()\n",
    "    return batch\n",
    "\n",
    "timit = timit.map(remove_special_characters)"
   ]
  },
  {
   "cell_type": "code",
   "execution_count": 8,
   "metadata": {},
   "outputs": [
    {
     "data": {
      "text/html": [
       "<table border=\"1\" class=\"dataframe\">\n",
       "  <thead>\n",
       "    <tr style=\"text-align: right;\">\n",
       "      <th></th>\n",
       "      <th>text</th>\n",
       "    </tr>\n",
       "  </thead>\n",
       "  <tbody>\n",
       "    <tr>\n",
       "      <th>0</th>\n",
       "      <td>the fifth jar contains big juicy peaches</td>\n",
       "    </tr>\n",
       "    <tr>\n",
       "      <th>1</th>\n",
       "      <td>brush fires are common in the dry underbrush of nevada</td>\n",
       "    </tr>\n",
       "    <tr>\n",
       "      <th>2</th>\n",
       "      <td>doctors prescribe drugs too freely</td>\n",
       "    </tr>\n",
       "    <tr>\n",
       "      <th>3</th>\n",
       "      <td>pledge to participate in nevada's aquatic competition</td>\n",
       "    </tr>\n",
       "    <tr>\n",
       "      <th>4</th>\n",
       "      <td>when she awoke she was the ship</td>\n",
       "    </tr>\n",
       "    <tr>\n",
       "      <th>5</th>\n",
       "      <td>she had your dark suit in greasy wash water all year</td>\n",
       "    </tr>\n",
       "    <tr>\n",
       "      <th>6</th>\n",
       "      <td>clasp the screw in your left hand</td>\n",
       "    </tr>\n",
       "    <tr>\n",
       "      <th>7</th>\n",
       "      <td>he advised immediate hospitalization</td>\n",
       "    </tr>\n",
       "    <tr>\n",
       "      <th>8</th>\n",
       "      <td>the prowler wore a ski mask for disguise</td>\n",
       "    </tr>\n",
       "    <tr>\n",
       "      <th>9</th>\n",
       "      <td>would you allow acts of violence</td>\n",
       "    </tr>\n",
       "  </tbody>\n",
       "</table>"
      ],
      "text/plain": [
       "<IPython.core.display.HTML object>"
      ]
     },
     "metadata": {},
     "output_type": "display_data"
    }
   ],
   "source": [
    "show_random_elements(timit[\"train\"].remove_columns([\"file\", \"audio\"]))\n"
   ]
  },
  {
   "cell_type": "code",
   "execution_count": 9,
   "metadata": {},
   "outputs": [
    {
     "data": {
      "application/vnd.jupyter.widget-view+json": {
       "model_id": "678ae5a7321e40e8a3133fecb6f7f981",
       "version_major": 2,
       "version_minor": 0
      },
      "text/plain": [
       "  0%|          | 0/1 [00:00<?, ?ba/s]"
      ]
     },
     "metadata": {},
     "output_type": "display_data"
    },
    {
     "data": {
      "application/vnd.jupyter.widget-view+json": {
       "model_id": "fabb4ce9b8cd4852baac9ea38b9b15e5",
       "version_major": 2,
       "version_minor": 0
      },
      "text/plain": [
       "  0%|          | 0/1 [00:00<?, ?ba/s]"
      ]
     },
     "metadata": {},
     "output_type": "display_data"
    }
   ],
   "source": [
    "def extract_all_chars(batch):\n",
    "  all_text = \" \".join(batch[\"text\"])\n",
    "  vocab = list(set(all_text))\n",
    "  return {\"vocab\": [vocab], \"all_text\": [all_text]}\n",
    "\n",
    "vocabs = timit.map(extract_all_chars, batched=True, batch_size=-1, keep_in_memory=True, remove_columns=timit.column_names[\"train\"])\n"
   ]
  },
  {
   "cell_type": "code",
   "execution_count": 10,
   "metadata": {},
   "outputs": [
    {
     "data": {
      "text/plain": [
       "{'t': 0,\n",
       " 'w': 1,\n",
       " 'n': 2,\n",
       " 'l': 3,\n",
       " 'm': 4,\n",
       " 'k': 5,\n",
       " 'g': 6,\n",
       " 'e': 7,\n",
       " 'z': 8,\n",
       " 'q': 9,\n",
       " 'o': 10,\n",
       " \"'\": 11,\n",
       " 'u': 12,\n",
       " 'h': 13,\n",
       " 'f': 14,\n",
       " 'r': 15,\n",
       " 'i': 16,\n",
       " ' ': 17,\n",
       " 'a': 18,\n",
       " 'y': 19,\n",
       " 'x': 20,\n",
       " 'c': 21,\n",
       " 'b': 22,\n",
       " 'p': 23,\n",
       " 'd': 24,\n",
       " 'j': 25,\n",
       " 's': 26,\n",
       " 'v': 27}"
      ]
     },
     "execution_count": 10,
     "metadata": {},
     "output_type": "execute_result"
    }
   ],
   "source": [
    "vocab_list = list(set(vocabs[\"train\"][\"vocab\"][0]) | set(vocabs[\"test\"][\"vocab\"][0]))\n",
    "\n",
    "vocab_dict = {v: k for k, v in enumerate(vocab_list)}\n",
    "vocab_dict\n"
   ]
  },
  {
   "cell_type": "code",
   "execution_count": 11,
   "metadata": {},
   "outputs": [],
   "source": [
    "vocab_dict[\"|\"] = vocab_dict[\" \"]\n",
    "del vocab_dict[\" \"]\n"
   ]
  },
  {
   "cell_type": "code",
   "execution_count": 12,
   "metadata": {},
   "outputs": [
    {
     "name": "stdout",
     "output_type": "stream",
     "text": [
      "30\n"
     ]
    }
   ],
   "source": [
    "vocab_dict[\"[UNK]\"] = len(vocab_dict)\n",
    "vocab_dict[\"[PAD]\"] = len(vocab_dict)\n",
    "print(len(vocab_dict))\n"
   ]
  },
  {
   "cell_type": "code",
   "execution_count": 13,
   "metadata": {},
   "outputs": [],
   "source": [
    "import json\n",
    "with open('vocab.json', 'w') as vocab_file:\n",
    "    json.dump(vocab_dict, vocab_file)\n"
   ]
  },
  {
   "cell_type": "code",
   "execution_count": 14,
   "metadata": {},
   "outputs": [],
   "source": [
    "from transformers import Wav2Vec2CTCTokenizer\n",
    "\n",
    "tokenizer = Wav2Vec2CTCTokenizer(\"./vocab.json\", unk_token=\"[UNK]\", pad_token=\"[PAD]\", word_delimiter_token=\"|\")\n"
   ]
  },
  {
   "cell_type": "code",
   "execution_count": 15,
   "metadata": {},
   "outputs": [],
   "source": [
    "repo_name = \"wav2vec2-base-timit-demo-colab\"\n"
   ]
  },
  {
   "cell_type": "code",
   "execution_count": 16,
   "metadata": {},
   "outputs": [
    {
     "data": {
      "text/plain": [
       "CommitInfo(commit_url='https://huggingface.co/sagir567/wav2vec2-base-timit-demo-colab/commit/55ae0bc264a9955f7f7be8841480a089caa82180', commit_message='Upload tokenizer', commit_description='', oid='55ae0bc264a9955f7f7be8841480a089caa82180', pr_url=None, pr_revision=None, pr_num=None)"
      ]
     },
     "execution_count": 16,
     "metadata": {},
     "output_type": "execute_result"
    }
   ],
   "source": [
    "tokenizer.push_to_hub(repo_name)\n"
   ]
  },
  {
   "cell_type": "code",
   "execution_count": 17,
   "metadata": {},
   "outputs": [],
   "source": [
    "from transformers import Wav2Vec2FeatureExtractor\n",
    "\n",
    "feature_extractor = Wav2Vec2FeatureExtractor(feature_size=1, sampling_rate=16000, padding_value=0.0, do_normalize=True, return_attention_mask=False)\n"
   ]
  },
  {
   "cell_type": "code",
   "execution_count": 18,
   "metadata": {},
   "outputs": [],
   "source": [
    "from transformers import Wav2Vec2Processor\n",
    "\n",
    "processor = Wav2Vec2Processor(feature_extractor=feature_extractor, tokenizer=tokenizer)\n"
   ]
  },
  {
   "cell_type": "code",
   "execution_count": 19,
   "metadata": {},
   "outputs": [
    {
     "data": {
      "text/plain": [
       "'/Users/mac/.cache/huggingface/datasets/downloads/extracted/86096937f792a33c316ac9ea43f48d3dc40aac8eb909880575f0f2eb2fc29ded/data/TRAIN/DR4/MMDM0/SI681.WAV'"
      ]
     },
     "execution_count": 19,
     "metadata": {},
     "output_type": "execute_result"
    }
   ],
   "source": [
    "timit['train']['file'][0]"
   ]
  },
  {
   "cell_type": "code",
   "execution_count": 20,
   "metadata": {},
   "outputs": [],
   "source": [
    "# common_voice_train[\"audio\"][0]\n"
   ]
  },
  {
   "cell_type": "code",
   "execution_count": 21,
   "metadata": {},
   "outputs": [
    {
     "name": "stdout",
     "output_type": "stream",
     "text": [
      "cut a small corner off each edge\n"
     ]
    },
    {
     "data": {
      "text/html": [
       "\n",
       "                <audio  controls=\"controls\" autoplay=\"autoplay\">\n",
       "                    <source src=\"data:audio/wav;base64,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\" type=\"audio/wav\" />\n",
       "                    Your browser does not support the audio element.\n",
       "                </audio>\n",
       "              "
      ],
      "text/plain": [
       "<IPython.lib.display.Audio object>"
      ]
     },
     "execution_count": 21,
     "metadata": {},
     "output_type": "execute_result"
    }
   ],
   "source": [
    "import IPython.display as ipd\n",
    "import numpy as np\n",
    "import random\n",
    "\n",
    "rand_int = random.randint(0, len(timit[\"train\"]))\n",
    "\n",
    "print(timit[\"train\"][rand_int][\"text\"])\n",
    "ipd.Audio(data=np.asarray(timit[\"train\"][rand_int][\"audio\"][\"array\"]), autoplay=True, rate=16000)\n"
   ]
  },
  {
   "cell_type": "code",
   "execution_count": 22,
   "metadata": {},
   "outputs": [
    {
     "name": "stdout",
     "output_type": "stream",
     "text": [
      "Target text: bury those uniforms so they won't be found\n",
      "Input array shape: (40653,)\n",
      "Sampling rate: 16000\n"
     ]
    }
   ],
   "source": [
    "rand_int = random.randint(0, len(timit[\"train\"]))\n",
    "\n",
    "print(\"Target text:\", timit[\"train\"][rand_int][\"text\"])\n",
    "print(\"Input array shape:\", np.asarray(timit[\"train\"][rand_int][\"audio\"][\"array\"]).shape)\n",
    "print(\"Sampling rate:\", timit[\"train\"][rand_int][\"audio\"][\"sampling_rate\"])\n"
   ]
  },
  {
   "cell_type": "code",
   "execution_count": 23,
   "metadata": {},
   "outputs": [],
   "source": [
    "def prepare_dataset(batch):\n",
    "    audio = batch[\"audio\"]\n",
    "\n",
    "    # batched output is \"un-batched\" to ensure mapping is correct\n",
    "    batch[\"input_values\"] = processor(audio[\"array\"], sampling_rate=audio[\"sampling_rate\"]).input_values[0]\n",
    "    \n",
    "    with processor.as_target_processor():\n",
    "        batch[\"labels\"] = processor(batch[\"text\"]).input_ids\n",
    "    return batch\n"
   ]
  },
  {
   "cell_type": "code",
   "execution_count": 24,
   "metadata": {},
   "outputs": [
    {
     "name": "stderr",
     "output_type": "stream",
     "text": [
      "/Users/mac/anaconda3/envs/wav2vec2Transforrmers/lib/python3.10/site-packages/transformers/models/wav2vec2/processing_wav2vec2.py:156: UserWarning: `as_target_processor` is deprecated and will be removed in v5 of Transformers. You can process your labels by using the argument `text` of the regular `__call__` method (either in the same call as your audio inputs, or in a separate call.\n",
      "  warnings.warn(\n",
      "/Users/mac/anaconda3/envs/wav2vec2Transforrmers/lib/python3.10/site-packages/transformers/models/wav2vec2/processing_wav2vec2.py:156: UserWarning: `as_target_processor` is deprecated and will be removed in v5 of Transformers. You can process your labels by using the argument `text` of the regular `__call__` method (either in the same call as your audio inputs, or in a separate call.\n",
      "  warnings.warn(\n",
      "/Users/mac/anaconda3/envs/wav2vec2Transforrmers/lib/python3.10/site-packages/transformers/models/wav2vec2/processing_wav2vec2.py:156: UserWarning: `as_target_processor` is deprecated and will be removed in v5 of Transformers. You can process your labels by using the argument `text` of the regular `__call__` method (either in the same call as your audio inputs, or in a separate call.\n",
      "  warnings.warn(\n",
      "/Users/mac/anaconda3/envs/wav2vec2Transforrmers/lib/python3.10/site-packages/transformers/models/wav2vec2/processing_wav2vec2.py:156: UserWarning: `as_target_processor` is deprecated and will be removed in v5 of Transformers. You can process your labels by using the argument `text` of the regular `__call__` method (either in the same call as your audio inputs, or in a separate call.\n",
      "  warnings.warn(\n",
      "/Users/mac/anaconda3/envs/wav2vec2Transforrmers/lib/python3.10/site-packages/datasets/table.py:690: FutureWarning: promote has been superseded by mode='default'.\n",
      "  table = cls._concat_blocks(blocks, axis=0)\n",
      "/Users/mac/anaconda3/envs/wav2vec2Transforrmers/lib/python3.10/site-packages/transformers/models/wav2vec2/processing_wav2vec2.py:156: UserWarning: `as_target_processor` is deprecated and will be removed in v5 of Transformers. You can process your labels by using the argument `text` of the regular `__call__` method (either in the same call as your audio inputs, or in a separate call.\n",
      "  warnings.warn(\n",
      "/Users/mac/anaconda3/envs/wav2vec2Transforrmers/lib/python3.10/site-packages/transformers/models/wav2vec2/processing_wav2vec2.py:156: UserWarning: `as_target_processor` is deprecated and will be removed in v5 of Transformers. You can process your labels by using the argument `text` of the regular `__call__` method (either in the same call as your audio inputs, or in a separate call.\n",
      "  warnings.warn(\n",
      "/Users/mac/anaconda3/envs/wav2vec2Transforrmers/lib/python3.10/site-packages/transformers/models/wav2vec2/processing_wav2vec2.py:156: UserWarning: `as_target_processor` is deprecated and will be removed in v5 of Transformers. You can process your labels by using the argument `text` of the regular `__call__` method (either in the same call as your audio inputs, or in a separate call.\n",
      "  warnings.warn(\n",
      "/Users/mac/anaconda3/envs/wav2vec2Transforrmers/lib/python3.10/site-packages/transformers/models/wav2vec2/processing_wav2vec2.py:156: UserWarning: `as_target_processor` is deprecated and will be removed in v5 of Transformers. You can process your labels by using the argument `text` of the regular `__call__` method (either in the same call as your audio inputs, or in a separate call.\n",
      "  warnings.warn(\n"
     ]
    }
   ],
   "source": [
    "import numpy as np\n",
    "np.object = object \n",
    "timit = timit.map(prepare_dataset, remove_columns=timit.column_names[\"train\"], num_proc=4)\n"
   ]
  },
  {
   "cell_type": "code",
   "execution_count": 25,
   "metadata": {},
   "outputs": [],
   "source": [
    "import torch\n",
    "\n",
    "from dataclasses import dataclass, field\n",
    "from typing import Any, Dict, List, Optional, Union\n",
    "\n",
    "@dataclass\n",
    "class DataCollatorCTCWithPadding:\n",
    "    \"\"\"\n",
    "    Data collator that will dynamically pad the inputs received.\n",
    "    Args:\n",
    "        processor (:class:`~transformers.Wav2Vec2Processor`)\n",
    "            The processor used for proccessing the data.\n",
    "        padding (:obj:`bool`, :obj:`str` or :class:`~transformers.tokenization_utils_base.PaddingStrategy`, `optional`, defaults to :obj:`True`):\n",
    "            Select a strategy to pad the returned sequences (according to the model's padding side and padding index)\n",
    "            among:\n",
    "            * :obj:`True` or :obj:`'longest'`: Pad to the longest sequence in the batch (or no padding if only a single\n",
    "              sequence if provided).\n",
    "            * :obj:`'max_length'`: Pad to a maximum length specified with the argument :obj:`max_length` or to the\n",
    "              maximum acceptable input length for the model if that argument is not provided.\n",
    "            * :obj:`False` or :obj:`'do_not_pad'` (default): No padding (i.e., can output a batch with sequences of\n",
    "              different lengths).\n",
    "        max_length (:obj:`int`, `optional`):\n",
    "            Maximum length of the ``input_values`` of the returned list and optionally padding length (see above).\n",
    "        max_length_labels (:obj:`int`, `optional`):\n",
    "            Maximum length of the ``labels`` returned list and optionally padding length (see above).\n",
    "        pad_to_multiple_of (:obj:`int`, `optional`):\n",
    "            If set will pad the sequence to a multiple of the provided value.\n",
    "            This is especially useful to enable the use of Tensor Cores on NVIDIA hardware with compute capability >=\n",
    "            7.5 (Volta).\n",
    "    \"\"\"\n",
    "\n",
    "    processor: Wav2Vec2Processor\n",
    "    padding: Union[bool, str] = True\n",
    "    max_length: Optional[int] = None\n",
    "    max_length_labels: Optional[int] = None\n",
    "    pad_to_multiple_of: Optional[int] = None\n",
    "    pad_to_multiple_of_labels: Optional[int] = None\n",
    "\n",
    "    def __call__(self, features: List[Dict[str, Union[List[int], torch.Tensor]]]) -> Dict[str, torch.Tensor]:\n",
    "        # split inputs and labels since they have to be of different lengths and need\n",
    "        # different padding methods\n",
    "        input_features = [{\"input_values\": feature[\"input_values\"]} for feature in features]\n",
    "        label_features = [{\"input_ids\": feature[\"labels\"]} for feature in features]\n",
    "\n",
    "        batch = self.processor.pad(\n",
    "            input_features,\n",
    "            padding=self.padding,\n",
    "            max_length=self.max_length,\n",
    "            pad_to_multiple_of=self.pad_to_multiple_of,\n",
    "            return_tensors=\"pt\",\n",
    "        )\n",
    "        with self.processor.as_target_processor():\n",
    "            labels_batch = self.processor.pad(\n",
    "                label_features,\n",
    "                padding=self.padding,\n",
    "                max_length=self.max_length_labels,\n",
    "                pad_to_multiple_of=self.pad_to_multiple_of_labels,\n",
    "                return_tensors=\"pt\",\n",
    "            )\n",
    "\n",
    "        # replace padding with -100 to ignore loss correctly\n",
    "        labels = labels_batch[\"input_ids\"].masked_fill(labels_batch.attention_mask.ne(1), -100)\n",
    "\n",
    "        batch[\"labels\"] = labels\n",
    "\n",
    "        return batch\n"
   ]
  },
  {
   "cell_type": "code",
   "execution_count": 26,
   "metadata": {},
   "outputs": [],
   "source": [
    "data_collator = DataCollatorCTCWithPadding(processor=processor, padding=True)\n"
   ]
  },
  {
   "cell_type": "code",
   "execution_count": 27,
   "metadata": {},
   "outputs": [],
   "source": [
    "wer_metric = load_metric(\"wer\")\n"
   ]
  },
  {
   "cell_type": "code",
   "execution_count": 28,
   "metadata": {},
   "outputs": [],
   "source": [
    "def compute_metrics(pred):\n",
    "    pred_logits = pred.predictions\n",
    "    pred_ids = np.argmax(pred_logits, axis=-1)\n",
    "\n",
    "    pred.label_ids[pred.label_ids == -100] = processor.tokenizer.pad_token_id\n",
    "\n",
    "    pred_str = processor.batch_decode(pred_ids)\n",
    "    # we do not want to group tokens when computing the metrics\n",
    "    label_str = processor.batch_decode(pred.label_ids, group_tokens=False)\n",
    "\n",
    "    wer = wer_metric.compute(predictions=pred_str, references=label_str)\n",
    "\n",
    "    return {\"wer\": wer}\n"
   ]
  },
  {
   "cell_type": "code",
   "execution_count": 29,
   "metadata": {},
   "outputs": [
    {
     "name": "stderr",
     "output_type": "stream",
     "text": [
      "/Users/mac/anaconda3/envs/wav2vec2Transforrmers/lib/python3.10/site-packages/transformers/configuration_utils.py:365: UserWarning: Passing `gradient_checkpointing` to a config initialization is deprecated and will be removed in v5 Transformers. Using `model.gradient_checkpointing_enable()` instead, or if you are using the `Trainer` API, pass `gradient_checkpointing=True` in your `TrainingArguments`.\n",
      "  warnings.warn(\n",
      "Some weights of Wav2Vec2ForCTC were not initialized from the model checkpoint at facebook/wav2vec2-base and are newly initialized: ['lm_head.bias', 'lm_head.weight', 'wav2vec2.encoder.pos_conv_embed.conv.parametrizations.weight.original0', 'wav2vec2.encoder.pos_conv_embed.conv.parametrizations.weight.original1']\n",
      "You should probably TRAIN this model on a down-stream task to be able to use it for predictions and inference.\n"
     ]
    }
   ],
   "source": [
    "from transformers import Wav2Vec2ForCTC\n",
    "\n",
    "model = Wav2Vec2ForCTC.from_pretrained(\n",
    "    \"facebook/wav2vec2-base\", \n",
    "    ctc_loss_reduction=\"mean\", \n",
    "    pad_token_id=processor.tokenizer.pad_token_id,\n",
    ")\n"
   ]
  },
  {
   "cell_type": "code",
   "execution_count": 30,
   "metadata": {},
   "outputs": [
    {
     "name": "stderr",
     "output_type": "stream",
     "text": [
      "/Users/mac/anaconda3/envs/wav2vec2Transforrmers/lib/python3.10/site-packages/transformers/models/wav2vec2/modeling_wav2vec2.py:1919: FutureWarning: The method `freeze_feature_extractor` is deprecated and will be removed in Transformers v5. Please use the equivalent `freeze_feature_encoder` method instead.\n",
      "  warnings.warn(\n"
     ]
    }
   ],
   "source": [
    "model.freeze_feature_extractor()\n"
   ]
  },
  {
   "cell_type": "code",
   "execution_count": 31,
   "metadata": {},
   "outputs": [],
   "source": [
    "from transformers import TrainingArguments\n",
    "\n",
    "training_args = TrainingArguments(\n",
    "  output_dir=repo_name,\n",
    "  group_by_length=True,\n",
    "  per_device_train_batch_size=32,\n",
    "  evaluation_strategy=\"steps\",\n",
    "  num_train_epochs=30,\n",
    "  fp16=False,\n",
    "  gradient_checkpointing=True, \n",
    "  save_steps=500,\n",
    "  eval_steps=500,\n",
    "  logging_steps=500,\n",
    "  learning_rate=1e-4,\n",
    "  weight_decay=0.005,\n",
    "  warmup_steps=1000,\n",
    "  save_total_limit=2,\n",
    ")\n"
   ]
  },
  {
   "cell_type": "code",
   "execution_count": 32,
   "metadata": {},
   "outputs": [],
   "source": [
    "from transformers import Trainer\n",
    "\n",
    "trainer = Trainer(\n",
    "    model=model,\n",
    "    data_collator=data_collator,\n",
    "    args=training_args,\n",
    "    compute_metrics=compute_metrics,\n",
    "    train_dataset=timit[\"train\"],\n",
    "    eval_dataset=timit[\"test\"],\n",
    "    tokenizer=processor.feature_extractor,\n",
    ")\n"
   ]
  },
  {
   "cell_type": "code",
   "execution_count": 33,
   "metadata": {},
   "outputs": [],
   "source": [
    "# def ConnectButton():\n",
    "#     console.log(\"Connect pushed\"); \n",
    "#     document.querySelector(\"#top-toolbar > colab-connect-button\").shadowRoot.querySelector(\"#connect\").click() \n",
    "\n",
    "# setInterval(ConnectButton,60000);\n"
   ]
  },
  {
   "cell_type": "code",
   "execution_count": 34,
   "metadata": {},
   "outputs": [
    {
     "name": "stderr",
     "output_type": "stream",
     "text": [
      "/Users/mac/anaconda3/envs/wav2vec2Transforrmers/lib/python3.10/site-packages/transformers/models/wav2vec2/processing_wav2vec2.py:156: UserWarning: `as_target_processor` is deprecated and will be removed in v5 of Transformers. You can process your labels by using the argument `text` of the regular `__call__` method (either in the same call as your audio inputs, or in a separate call.\n",
      "  warnings.warn(\n",
      "/Users/mac/anaconda3/envs/wav2vec2Transforrmers/lib/python3.10/site-packages/torch/utils/checkpoint.py:460: UserWarning: torch.utils.checkpoint: please pass in use_reentrant=True or use_reentrant=False explicitly. The default value of use_reentrant will be updated to be False in the future. To maintain current behavior, pass use_reentrant=True. It is recommended that you use use_reentrant=False. Refer to docs for more details on the differences between the two variants.\n",
      "  warnings.warn(\n"
     ]
    },
    {
     "data": {
      "text/html": [
       "\n",
       "    <div>\n",
       "      \n",
       "      <progress value='4350' max='4350' style='width:300px; height:20px; vertical-align: middle;'></progress>\n",
       "      [4350/4350 20:54:15, Epoch 30/30]\n",
       "    </div>\n",
       "    <table border=\"1\" class=\"dataframe\">\n",
       "  <thead>\n",
       " <tr style=\"text-align: left;\">\n",
       "      <th>Step</th>\n",
       "      <th>Training Loss</th>\n",
       "      <th>Validation Loss</th>\n",
       "      <th>Wer</th>\n",
       "    </tr>\n",
       "  </thead>\n",
       "  <tbody>\n",
       "    <tr>\n",
       "      <td>500</td>\n",
       "      <td>3.419500</td>\n",
       "      <td>1.019881</td>\n",
       "      <td>0.664393</td>\n",
       "    </tr>\n",
       "    <tr>\n",
       "      <td>1000</td>\n",
       "      <td>0.499800</td>\n",
       "      <td>0.413665</td>\n",
       "      <td>0.363724</td>\n",
       "    </tr>\n",
       "    <tr>\n",
       "      <td>1500</td>\n",
       "      <td>0.203600</td>\n",
       "      <td>0.381278</td>\n",
       "      <td>0.318724</td>\n",
       "    </tr>\n",
       "    <tr>\n",
       "      <td>2000</td>\n",
       "      <td>0.116400</td>\n",
       "      <td>0.366891</td>\n",
       "      <td>0.303287</td>\n",
       "    </tr>\n",
       "    <tr>\n",
       "      <td>2500</td>\n",
       "      <td>0.079200</td>\n",
       "      <td>0.396502</td>\n",
       "      <td>0.295500</td>\n",
       "    </tr>\n",
       "    <tr>\n",
       "      <td>3000</td>\n",
       "      <td>0.065300</td>\n",
       "      <td>0.382926</td>\n",
       "      <td>0.289642</td>\n",
       "    </tr>\n",
       "    <tr>\n",
       "      <td>3500</td>\n",
       "      <td>0.048400</td>\n",
       "      <td>0.396885</td>\n",
       "      <td>0.283027</td>\n",
       "    </tr>\n",
       "    <tr>\n",
       "      <td>4000</td>\n",
       "      <td>0.038000</td>\n",
       "      <td>0.400174</td>\n",
       "      <td>0.280959</td>\n",
       "    </tr>\n",
       "  </tbody>\n",
       "</table><p>"
      ],
      "text/plain": [
       "<IPython.core.display.HTML object>"
      ]
     },
     "metadata": {},
     "output_type": "display_data"
    },
    {
     "name": "stderr",
     "output_type": "stream",
     "text": [
      "/Users/mac/anaconda3/envs/wav2vec2Transforrmers/lib/python3.10/site-packages/transformers/models/wav2vec2/processing_wav2vec2.py:156: UserWarning: `as_target_processor` is deprecated and will be removed in v5 of Transformers. You can process your labels by using the argument `text` of the regular `__call__` method (either in the same call as your audio inputs, or in a separate call.\n",
      "  warnings.warn(\n",
      "/Users/mac/anaconda3/envs/wav2vec2Transforrmers/lib/python3.10/site-packages/torch/utils/checkpoint.py:460: UserWarning: torch.utils.checkpoint: please pass in use_reentrant=True or use_reentrant=False explicitly. The default value of use_reentrant will be updated to be False in the future. To maintain current behavior, pass use_reentrant=True. It is recommended that you use use_reentrant=False. Refer to docs for more details on the differences between the two variants.\n",
      "  warnings.warn(\n",
      "/Users/mac/anaconda3/envs/wav2vec2Transforrmers/lib/python3.10/site-packages/transformers/models/wav2vec2/processing_wav2vec2.py:156: UserWarning: `as_target_processor` is deprecated and will be removed in v5 of Transformers. You can process your labels by using the argument `text` of the regular `__call__` method (either in the same call as your audio inputs, or in a separate call.\n",
      "  warnings.warn(\n",
      "/Users/mac/anaconda3/envs/wav2vec2Transforrmers/lib/python3.10/site-packages/torch/utils/checkpoint.py:460: UserWarning: torch.utils.checkpoint: please pass in use_reentrant=True or use_reentrant=False explicitly. The default value of use_reentrant will be updated to be False in the future. To maintain current behavior, pass use_reentrant=True. It is recommended that you use use_reentrant=False. Refer to docs for more details on the differences between the two variants.\n",
      "  warnings.warn(\n",
      "/Users/mac/anaconda3/envs/wav2vec2Transforrmers/lib/python3.10/site-packages/transformers/models/wav2vec2/processing_wav2vec2.py:156: UserWarning: `as_target_processor` is deprecated and will be removed in v5 of Transformers. You can process your labels by using the argument `text` of the regular `__call__` method (either in the same call as your audio inputs, or in a separate call.\n",
      "  warnings.warn(\n",
      "/Users/mac/anaconda3/envs/wav2vec2Transforrmers/lib/python3.10/site-packages/torch/utils/checkpoint.py:460: UserWarning: torch.utils.checkpoint: please pass in use_reentrant=True or use_reentrant=False explicitly. The default value of use_reentrant will be updated to be False in the future. To maintain current behavior, pass use_reentrant=True. It is recommended that you use use_reentrant=False. Refer to docs for more details on the differences between the two variants.\n",
      "  warnings.warn(\n",
      "/Users/mac/anaconda3/envs/wav2vec2Transforrmers/lib/python3.10/site-packages/transformers/models/wav2vec2/processing_wav2vec2.py:156: UserWarning: `as_target_processor` is deprecated and will be removed in v5 of Transformers. You can process your labels by using the argument `text` of the regular `__call__` method (either in the same call as your audio inputs, or in a separate call.\n",
      "  warnings.warn(\n",
      "/Users/mac/anaconda3/envs/wav2vec2Transforrmers/lib/python3.10/site-packages/torch/utils/checkpoint.py:460: UserWarning: torch.utils.checkpoint: please pass in use_reentrant=True or use_reentrant=False explicitly. The default value of use_reentrant will be updated to be False in the future. To maintain current behavior, pass use_reentrant=True. It is recommended that you use use_reentrant=False. Refer to docs for more details on the differences between the two variants.\n",
      "  warnings.warn(\n",
      "/Users/mac/anaconda3/envs/wav2vec2Transforrmers/lib/python3.10/site-packages/transformers/models/wav2vec2/processing_wav2vec2.py:156: UserWarning: `as_target_processor` is deprecated and will be removed in v5 of Transformers. You can process your labels by using the argument `text` of the regular `__call__` method (either in the same call as your audio inputs, or in a separate call.\n",
      "  warnings.warn(\n",
      "/Users/mac/anaconda3/envs/wav2vec2Transforrmers/lib/python3.10/site-packages/torch/utils/checkpoint.py:460: UserWarning: torch.utils.checkpoint: please pass in use_reentrant=True or use_reentrant=False explicitly. The default value of use_reentrant will be updated to be False in the future. To maintain current behavior, pass use_reentrant=True. It is recommended that you use use_reentrant=False. Refer to docs for more details on the differences between the two variants.\n",
      "  warnings.warn(\n",
      "/Users/mac/anaconda3/envs/wav2vec2Transforrmers/lib/python3.10/site-packages/transformers/models/wav2vec2/processing_wav2vec2.py:156: UserWarning: `as_target_processor` is deprecated and will be removed in v5 of Transformers. You can process your labels by using the argument `text` of the regular `__call__` method (either in the same call as your audio inputs, or in a separate call.\n",
      "  warnings.warn(\n",
      "/Users/mac/anaconda3/envs/wav2vec2Transforrmers/lib/python3.10/site-packages/torch/utils/checkpoint.py:460: UserWarning: torch.utils.checkpoint: please pass in use_reentrant=True or use_reentrant=False explicitly. The default value of use_reentrant will be updated to be False in the future. To maintain current behavior, pass use_reentrant=True. It is recommended that you use use_reentrant=False. Refer to docs for more details on the differences between the two variants.\n",
      "  warnings.warn(\n",
      "/Users/mac/anaconda3/envs/wav2vec2Transforrmers/lib/python3.10/site-packages/transformers/models/wav2vec2/processing_wav2vec2.py:156: UserWarning: `as_target_processor` is deprecated and will be removed in v5 of Transformers. You can process your labels by using the argument `text` of the regular `__call__` method (either in the same call as your audio inputs, or in a separate call.\n",
      "  warnings.warn(\n",
      "/Users/mac/anaconda3/envs/wav2vec2Transforrmers/lib/python3.10/site-packages/torch/utils/checkpoint.py:460: UserWarning: torch.utils.checkpoint: please pass in use_reentrant=True or use_reentrant=False explicitly. The default value of use_reentrant will be updated to be False in the future. To maintain current behavior, pass use_reentrant=True. It is recommended that you use use_reentrant=False. Refer to docs for more details on the differences between the two variants.\n",
      "  warnings.warn(\n",
      "/Users/mac/anaconda3/envs/wav2vec2Transforrmers/lib/python3.10/site-packages/transformers/models/wav2vec2/processing_wav2vec2.py:156: UserWarning: `as_target_processor` is deprecated and will be removed in v5 of Transformers. You can process your labels by using the argument `text` of the regular `__call__` method (either in the same call as your audio inputs, or in a separate call.\n",
      "  warnings.warn(\n",
      "/Users/mac/anaconda3/envs/wav2vec2Transforrmers/lib/python3.10/site-packages/torch/utils/checkpoint.py:460: UserWarning: torch.utils.checkpoint: please pass in use_reentrant=True or use_reentrant=False explicitly. The default value of use_reentrant will be updated to be False in the future. To maintain current behavior, pass use_reentrant=True. It is recommended that you use use_reentrant=False. Refer to docs for more details on the differences between the two variants.\n",
      "  warnings.warn(\n"
     ]
    },
    {
     "data": {
      "text/plain": [
       "TrainOutput(global_step=4350, training_loss=0.516459575083064, metrics={'train_runtime': 75299.3345, 'train_samples_per_second': 1.841, 'train_steps_per_second': 0.058, 'total_flos': 3.984948339456983e+18, 'train_loss': 0.516459575083064, 'epoch': 30.0})"
      ]
     },
     "execution_count": 34,
     "metadata": {},
     "output_type": "execute_result"
    }
   ],
   "source": [
    "trainer.train()\n"
   ]
  },
  {
   "cell_type": "code",
   "execution_count": 53,
   "metadata": {},
   "outputs": [
    {
     "data": {
      "application/vnd.jupyter.widget-view+json": {
       "model_id": "04dce59963c349ba89fbbdc2f97f2fbe",
       "version_major": 2,
       "version_minor": 0
      },
      "text/plain": [
       "VBox(children=(HTML(value='<center> <img\\nsrc=https://huggingface.co/front/assets/huggingface_logo-noborder.sv…"
      ]
     },
     "metadata": {},
     "output_type": "display_data"
    },
    {
     "data": {
      "application/vnd.jupyter.widget-view+json": {
       "model_id": "52b778f4ee59407bb258cc3e0f711c06",
       "version_major": 2,
       "version_minor": 0
      },
      "text/plain": [
       "Upload 2 LFS files:   0%|          | 0/2 [00:00<?, ?it/s]"
      ]
     },
     "metadata": {},
     "output_type": "display_data"
    },
    {
     "data": {
      "application/vnd.jupyter.widget-view+json": {
       "model_id": "9f93ffa0d3cb4c18a019f663d5115b8f",
       "version_major": 2,
       "version_minor": 0
      },
      "text/plain": [
       "model.safetensors:   0%|          | 0.00/378M [00:00<?, ?B/s]"
      ]
     },
     "metadata": {},
     "output_type": "display_data"
    },
    {
     "data": {
      "application/vnd.jupyter.widget-view+json": {
       "model_id": "59207f751fde4e3d8851e83cd0817239",
       "version_major": 2,
       "version_minor": 0
      },
      "text/plain": [
       "training_args.bin:   0%|          | 0.00/4.73k [00:00<?, ?B/s]"
      ]
     },
     "metadata": {},
     "output_type": "display_data"
    },
    {
     "data": {
      "text/plain": [
       "CommitInfo(commit_url='https://huggingface.co/sagir567/wav2vec2-base-timit-demo-colab/commit/97f09b45d6851b52185f940fe212d227d2d43db5', commit_message='End of training', commit_description='', oid='97f09b45d6851b52185f940fe212d227d2d43db5', pr_url=None, pr_revision=None, pr_num=None)"
      ]
     },
     "execution_count": 53,
     "metadata": {},
     "output_type": "execute_result"
    }
   ],
   "source": [
    "notebook_login()\n",
    "trainer.args.output_dir = 'wav2vec2-base-timit-demo-colab'\n",
    "trainer.push_to_hub()\n"
   ]
  },
  {
   "cell_type": "code",
   "execution_count": 55,
   "metadata": {},
   "outputs": [
    {
     "name": "stderr",
     "output_type": "stream",
     "text": [
      "Special tokens have been added in the vocabulary, make sure the associated word embeddings are fine-tuned or trained.\n"
     ]
    }
   ],
   "source": [
    "from transformers import AutoModelForCTC, Wav2Vec2Processor\n",
    "\n",
    "model = AutoModelForCTC.from_pretrained(\"wav2vec2-base-timit-demo-colab\")\n",
    "processor = Wav2Vec2Processor.from_pretrained(\"wav2vec2-base-timit-demo-colab\")\n"
   ]
  },
  {
   "cell_type": "code",
   "execution_count": 56,
   "metadata": {},
   "outputs": [
    {
     "name": "stderr",
     "output_type": "stream",
     "text": [
      "Special tokens have been added in the vocabulary, make sure the associated word embeddings are fine-tuned or trained.\n"
     ]
    }
   ],
   "source": [
    "processor = Wav2Vec2Processor.from_pretrained(repo_name)\n",
    "model = Wav2Vec2ForCTC.from_pretrained(repo_name)\n"
   ]
  },
  {
   "cell_type": "code",
   "execution_count": 58,
   "metadata": {},
   "outputs": [
    {
     "data": {
      "application/vnd.jupyter.widget-view+json": {
       "model_id": "68dbc76317aa48d78678fc655f426993",
       "version_major": 2,
       "version_minor": 0
      },
      "text/plain": [
       "0ex [00:00, ?ex/s]"
      ]
     },
     "metadata": {},
     "output_type": "display_data"
    }
   ],
   "source": [
    "def map_to_result(batch):\n",
    "  with torch.no_grad():\n",
    "    input_values = torch.tensor(batch[\"input_values\"], device=\"cpu\").unsqueeze(0)\n",
    "    logits = model(input_values).logits\n",
    "\n",
    "  pred_ids = torch.argmax(logits, dim=-1)\n",
    "  batch[\"pred_str\"] = processor.batch_decode(pred_ids)[0]\n",
    "  batch[\"text\"] = processor.decode(batch[\"labels\"], group_tokens=False)\n",
    "  \n",
    "  return batch\n",
    "\n",
    "results = timit[\"test\"].map(map_to_result, remove_columns=timit[\"test\"].column_names)\n"
   ]
  },
  {
   "cell_type": "code",
   "execution_count": 60,
   "metadata": {},
   "outputs": [
    {
     "data": {
      "text/html": [
       "<table border=\"1\" class=\"dataframe\">\n",
       "  <thead>\n",
       "    <tr style=\"text-align: right;\">\n",
       "      <th></th>\n",
       "      <th>pred_str</th>\n",
       "      <th>text</th>\n",
       "    </tr>\n",
       "  </thead>\n",
       "  <tbody>\n",
       "    <tr>\n",
       "      <th>0</th>\n",
       "      <td>the fish began to leep frantically on the surface of the small eak</td>\n",
       "      <td>the fish began to leap frantically on the surface of the small lake</td>\n",
       "    </tr>\n",
       "    <tr>\n",
       "      <th>1</th>\n",
       "      <td>her righte hand akes whenever the barametric pressur changes</td>\n",
       "      <td>her right hand aches whenever the barometric pressure changes</td>\n",
       "    </tr>\n",
       "    <tr>\n",
       "      <th>2</th>\n",
       "      <td>only lawyers love milaneears</td>\n",
       "      <td>only lawyers love millionaires</td>\n",
       "    </tr>\n",
       "    <tr>\n",
       "      <th>3</th>\n",
       "      <td>the nearest cynegud may not be within wallkin distance</td>\n",
       "      <td>the nearest synagogue may not be within walking distance</td>\n",
       "    </tr>\n",
       "    <tr>\n",
       "      <th>4</th>\n",
       "      <td>bascket ball can be an entertaining sport</td>\n",
       "      <td>basketball can be an entertaining sport</td>\n",
       "    </tr>\n",
       "    <tr>\n",
       "      <th>5</th>\n",
       "      <td>she had your dark suit in greasy wash water all year</td>\n",
       "      <td>she had your dark suit in greasy wash water all year</td>\n",
       "    </tr>\n",
       "    <tr>\n",
       "      <th>6</th>\n",
       "      <td>cowsium makes bons and teach strong</td>\n",
       "      <td>calcium makes bones and teeth strong</td>\n",
       "    </tr>\n",
       "    <tr>\n",
       "      <th>7</th>\n",
       "      <td>it was not exactly panic they gave way to but they could not just sit there</td>\n",
       "      <td>it was not exactly panic they gave way to but they could not just sit there</td>\n",
       "    </tr>\n",
       "    <tr>\n",
       "      <th>8</th>\n",
       "      <td>got no busness over here on a stake out anyway</td>\n",
       "      <td>got no business over here on a stakeout anyway</td>\n",
       "    </tr>\n",
       "    <tr>\n",
       "      <th>9</th>\n",
       "      <td>that diagram makesense only after much studyg</td>\n",
       "      <td>that diagram makes sense only after much study</td>\n",
       "    </tr>\n",
       "  </tbody>\n",
       "</table>"
      ],
      "text/plain": [
       "<IPython.core.display.HTML object>"
      ]
     },
     "metadata": {},
     "output_type": "display_data"
    }
   ],
   "source": [
    "show_random_elements(results)\n"
   ]
  },
  {
   "cell_type": "code",
   "execution_count": 62,
   "metadata": {},
   "outputs": [
    {
     "data": {
      "text/plain": [
       "'[PAD] [PAD] [PAD] [PAD] [PAD] [PAD] t t h e e | | b [PAD] [PAD] [PAD] [PAD] u n n g g [PAD] u l l l [PAD] [PAD] [PAD] o o [PAD] | w w [PAD] a s s s | | | p [PAD] l l [PAD] e e s s [PAD] [PAD] n n t t [PAD] l l [PAD] y y | | s s [PAD] [PAD] [PAD] i t t t [PAD] [PAD] [PAD] u u u [PAD] [PAD] [PAD] a a a a t t e e d d | | n n e e a a a r | | t h e e | | s s h h [PAD] [PAD] [PAD] [PAD] [PAD] o o o r r r [PAD] [PAD] [PAD] [PAD] [PAD] [PAD] [PAD] [PAD] [PAD] [PAD]'"
      ]
     },
     "execution_count": 62,
     "metadata": {},
     "output_type": "execute_result"
    }
   ],
   "source": [
    "model.to(\"cpu\")\n",
    "\n",
    "with torch.no_grad():\n",
    "  logits = model(torch.tensor(timit[\"test\"][:1][\"input_values\"], device=\"cpu\")).logits\n",
    "\n",
    "pred_ids = torch.argmax(logits, dim=-1)\n",
    "\n",
    "# convert ids to tokens\n",
    "\" \".join(processor.tokenizer.convert_ids_to_tokens(pred_ids[0].tolist()))\n",
    "\n"
   ]
  },
  {
   "cell_type": "code",
   "execution_count": null,
   "metadata": {},
   "outputs": [],
   "source": []
  }
 ],
 "metadata": {
  "kernelspec": {
   "display_name": "Python 3 (ipykernel)",
   "language": "python",
   "name": "python3"
  },
  "language_info": {
   "codemirror_mode": {
    "name": "ipython",
    "version": 3
   },
   "file_extension": ".py",
   "mimetype": "text/x-python",
   "name": "python",
   "nbconvert_exporter": "python",
   "pygments_lexer": "ipython3",
   "version": "3.10.14"
  }
 },
 "nbformat": 4,
 "nbformat_minor": 4
}
