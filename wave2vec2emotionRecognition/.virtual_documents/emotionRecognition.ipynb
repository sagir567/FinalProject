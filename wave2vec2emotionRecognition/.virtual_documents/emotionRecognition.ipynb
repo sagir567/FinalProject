
!python3.11 -m pip install --upgrade pip
!pip install pandas
!pip install numpy
!pip install librosa





import numpy as np
import os
import seaborn as sns
import pandas as pd
import matplotlib.pyplot as plt
import librosa
import librosa.display
from IPython.display import Audio
import warnings
warnings.filterwarnings('ignore')









